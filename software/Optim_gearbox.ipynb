{
 "cells": [
  {
   "cell_type": "code",
   "execution_count": 13,
   "metadata": {
    "collapsed": true
   },
   "outputs": [],
   "source": [
    "from __future__ import division\n",
    "\n",
    "from math import floor\n",
    "import numpy as np"
   ]
  },
  {
   "cell_type": "code",
   "execution_count": 132,
   "metadata": {
    "collapsed": true
   },
   "outputs": [],
   "source": [
    "# Parameters\n",
    "module = 0.7\n",
    "max_external_diam = 32 #mm\n",
    "target_reduction = 5 \n",
    "min_shell_tickness = 1 #mm\n",
    "min_z_sun = 15 #nb de dent"
   ]
  },
  {
   "cell_type": "code",
   "execution_count": 133,
   "metadata": {
    "collapsed": false
   },
   "outputs": [],
   "source": [
    "class find_planetary_gearbox_parameters(object):\n",
    "    def __init__(self, target_reduction, module, max_external_diam, min_shell_tickness, min_z_sun=5):\n",
    "        max_diam_ref_ring = max_external_diam - 2*min_shell_tickness - 2*module\n",
    "        \n",
    "        self.module = module\n",
    "        self.target_reduction = target_reduction\n",
    "        self.min_z_sun = min_z_sun\n",
    "        \n",
    "        #init research\n",
    "        \n",
    "        self.z_ring = floor(max_diam_ref_ring / self.module)\n",
    "        self.z_sun = self.z_ring / (target_reduction-1)\n",
    "        self.z_planet = self.compute_z_planet(self.z_sun, self.z_ring, self.module)\n",
    "        \n",
    "        if self.is_gearbox_valid(self.z_sun, self.z_ring, self.z_planet):\n",
    "            print 'good:', self.z_sun, self.z_ring, self.z_planet\n",
    "            return\n",
    "        else:\n",
    "            self.result =  self.find_correct_gear()\n",
    "            #self.extract_best_results(self.result, 3)\n",
    "            \n",
    "    def find_correct_gear(self):\n",
    "        z_ring_test = np.arange(self.z_ring-10, self.z_ring)\n",
    "        z_sun_test = np.arange(max(self.min_z_sun, self.z_sun-10), self.z_sun+10)\n",
    "        result = []\n",
    "        \n",
    "        for z_ring in z_ring_test:\n",
    "            for z_sun in z_sun_test:\n",
    "                z_planet = self.compute_z_planet(z_sun, z_ring, self.module)\n",
    "                \n",
    "                if self.is_gearbox_valid(z_sun, z_ring, z_planet):\n",
    "                    r = self.compute_reduction(z_sun, z_ring)\n",
    "                    result.append([z_sun, z_ring, z_planet, r, abs(self.target_reduction-r)])\n",
    "        \n",
    "        self.extract_best_results(result, 5)\n",
    "        \n",
    "        return result\n",
    "\n",
    "    def extract_best_results(self, result, n):\n",
    "        result = np.array(result)\n",
    "        sort = result[result[:,4].argsort()] # sort on reduction error\n",
    "        \n",
    "        print n, 'best solutions:'\n",
    "        for i in range(n):\n",
    "            print 'z_sun =',int(sort[i,0]), ', z_ring =',int(sort[i,1]), ', z_planet =',int(sort[i,2]), ', reduction =',sort[i,3],'\\n'\n",
    "        \n",
    "            \n",
    "    def compute_z_planet(self, z_sun, z_ring, module):\n",
    "        d_sun = module * z_sun\n",
    "        d_ring = module * z_ring\n",
    "    \n",
    "        d_planet = (d_ring - d_sun) / 2\n",
    "    \n",
    "        return d_planet / module\n",
    "    \n",
    "    def is_gearbox_valid(self, z_sun, z_ring, z_planet):\n",
    "        if z_sun.is_integer() and z_planet.is_integer() and z_ring.is_integer():\n",
    "            return True\n",
    "        else:\n",
    "            return False\n",
    "        \n",
    "    def compute_reduction(self, z_sun, z_ring):\n",
    "        return (z_sun+z_ring)/z_sun"
   ]
  },
  {
   "cell_type": "code",
   "execution_count": 134,
   "metadata": {
    "collapsed": false
   },
   "outputs": [
    {
     "name": "stdout",
     "output_type": "stream",
     "text": [
      "5 best solutions:\n",
      "z_sun = 15 , z_ring = 37 , z_planet = 11 , reduction = 3.46666666667 \n",
      "\n",
      "z_sun = 16 , z_ring = 38 , z_planet = 11 , reduction = 3.375 \n",
      "\n",
      "z_sun = 15 , z_ring = 35 , z_planet = 10 , reduction = 3.33333333333 \n",
      "\n",
      "z_sun = 17 , z_ring = 39 , z_planet = 11 , reduction = 3.29411764706 \n",
      "\n",
      "z_sun = 16 , z_ring = 36 , z_planet = 10 , reduction = 3.25 \n",
      "\n"
     ]
    }
   ],
   "source": [
    "r = find_planetary_gearbox_parameters(target_reduction, module, max_external_diam, min_shell_tickness, min_z_sun)"
   ]
  },
  {
   "cell_type": "code",
   "execution_count": null,
   "metadata": {
    "collapsed": true
   },
   "outputs": [],
   "source": []
  },
  {
   "cell_type": "code",
   "execution_count": null,
   "metadata": {
    "collapsed": true
   },
   "outputs": [],
   "source": []
  }
 ],
 "metadata": {
  "kernelspec": {
   "display_name": "Python 2",
   "language": "python",
   "name": "python2"
  },
  "language_info": {
   "codemirror_mode": {
    "name": "ipython",
    "version": 2
   },
   "file_extension": ".py",
   "mimetype": "text/x-python",
   "name": "python",
   "nbconvert_exporter": "python",
   "pygments_lexer": "ipython2",
   "version": "2.7.10"
  }
 },
 "nbformat": 4,
 "nbformat_minor": 0
}
